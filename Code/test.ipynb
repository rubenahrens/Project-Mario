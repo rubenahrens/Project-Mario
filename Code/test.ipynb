{
 "cells": [
  {
   "cell_type": "code",
   "execution_count": 5,
   "metadata": {
    "collapsed": true
   },
   "outputs": [],
   "source": [
    "import sys\n",
    "\n",
    "import matplotlib.pyplot as plt\n",
    "from gym_super_mario_bros.actions import SIMPLE_MOVEMENT, RIGHT_ONLY\n",
    "from nes_py.wrappers import JoypadSpace\n",
    "import gym\n",
    "import numpy as np\n",
    "# import tensorflow as tf\n",
    "import os\n",
    "import neat\n",
    "import pickle\n",
    "import multiprocessing as mp\n",
    "import visualize\n",
    "import cv2\n",
    "import warnings\n",
    "import matplotlib.pyplot as plt\n",
    "warnings.filterwarnings(\"ignore\")"
   ]
  },
  {
   "cell_type": "code",
   "execution_count": 5,
   "outputs": [],
   "source": [],
   "metadata": {
    "collapsed": false
   }
  },
  {
   "cell_type": "code",
   "execution_count": 30,
   "outputs": [],
   "source": [
    "from gym.wrappers import GrayScaleObservation\n",
    "\n",
    "class SkipFrame(gym.Wrapper):\n",
    "    '''\n",
    "        Custom wrapper that inherits from gy.Wrapper and implements the step() function.\n",
    "        Use it to return only every skip nth frame\n",
    "    '''\n",
    "\n",
    "    def __init__(self, env, skip):\n",
    "        super().__init__(env)\n",
    "        self._skip = skip\n",
    "\n",
    "    def step(self, action):\n",
    "        total_reward = 0.0\n",
    "        done = False\n",
    "        for i in range(self._skip):\n",
    "            obs, reward, done, info = self.env.step(action)\n",
    "            total_reward += reward\n",
    "            if done:\n",
    "                break\n",
    "        return obs, total_reward, done, info\n",
    "\n",
    "env = gym.make('SuperMarioBros-1-1-v1')\n",
    "env = JoypadSpace(env, SIMPLE_MOVEMENT)\n",
    "# env = SkipFrame(env, skip=4)\n",
    "\n",
    "state = env.reset()"
   ],
   "metadata": {
    "collapsed": false
   }
  },
  {
   "cell_type": "code",
   "execution_count": 31,
   "outputs": [
    {
     "data": {
      "text/plain": "Discrete(7)"
     },
     "execution_count": 31,
     "metadata": {},
     "output_type": "execute_result"
    }
   ],
   "source": [
    "env.action_space"
   ],
   "metadata": {
    "collapsed": false
   }
  },
  {
   "cell_type": "code",
   "execution_count": 2,
   "outputs": [],
   "source": [
    "password = {\n",
    "    '00': 1,\n",
    "    '01': 2,\n",
    "    '10': 3,\n",
    "    '11': 4\n",
    "}\n",
    "\n",
    "def DECODE(sample: list) -> list:\n",
    "    result = []\n",
    "    for i in range(0, len(sample), 2):\n",
    "        x = str(sample[i]) + str(sample[i+1])\n",
    "        result.append(password[x])\n",
    "    return result"
   ],
   "metadata": {
    "collapsed": false
   }
  },
  {
   "cell_type": "code",
   "execution_count": 3,
   "outputs": [],
   "source": [
    "genome = pickle.load(open(\"GARESULT.pkl\", 'rb'))\n",
    "genome = DECODE(genome)"
   ],
   "metadata": {
    "collapsed": false
   }
  },
  {
   "cell_type": "code",
   "execution_count": 7,
   "outputs": [
    {
     "name": "stdout",
     "output_type": "stream",
     "text": [
      "['NOOP', 'right', 'right A', 'right B', 'right A B']\n"
     ]
    }
   ],
   "source": [
    "env = gym.make('SuperMarioBros-1-1-v0')\n",
    "env = JoypadSpace(env, RIGHT_ONLY)\n",
    "print(env.get_action_meanings())\n",
    "# env.reset()\n",
    "# for action in genome:\n",
    "#     state, reward, done, info = env.step(action)\n",
    "#     env.render()\n",
    "#     if done:\n",
    "#         env.close()\n",
    "#         break\n",
    "# fitness = info['x_pos']"
   ],
   "metadata": {
    "collapsed": false
   }
  },
  {
   "cell_type": "code",
   "execution_count": 5,
   "outputs": [
    {
     "data": {
      "text/plain": "722"
     },
     "execution_count": 5,
     "metadata": {},
     "output_type": "execute_result"
    }
   ],
   "source": [
    "fitness"
   ],
   "metadata": {
    "collapsed": false
   }
  },
  {
   "cell_type": "code",
   "execution_count": 2,
   "outputs": [],
   "source": [
    "env = gym.make('SuperMarioBros-1-1-v3')\n",
    "env = JoypadSpace(env, RIGHT_ONLY)"
   ],
   "metadata": {
    "collapsed": false
   }
  },
  {
   "cell_type": "code",
   "execution_count": 3,
   "outputs": [
    {
     "name": "stdout",
     "output_type": "stream",
     "text": [
      "['NOOP', 'right', 'right A', 'right B', 'right A B']\n"
     ]
    }
   ],
   "source": [
    "print(env.get_action_meanings())"
   ],
   "metadata": {
    "collapsed": false
   }
  },
  {
   "cell_type": "code",
   "execution_count": 1,
   "outputs": [
    {
     "ename": "NameError",
     "evalue": "name 'env' is not defined",
     "output_type": "error",
     "traceback": [
      "\u001B[0;31m---------------------------------------------------------------------------\u001B[0m",
      "\u001B[0;31mNameError\u001B[0m                                 Traceback (most recent call last)",
      "Input \u001B[0;32mIn [1]\u001B[0m, in \u001B[0;36m<cell line: 1>\u001B[0;34m()\u001B[0m\n\u001B[0;32m----> 1\u001B[0m state \u001B[38;5;241m=\u001B[39m \u001B[43menv\u001B[49m\u001B[38;5;241m.\u001B[39mreset()\n\u001B[1;32m      2\u001B[0m \u001B[38;5;28;01mfor\u001B[39;00m i \u001B[38;5;129;01min\u001B[39;00m \u001B[38;5;28mrange\u001B[39m(\u001B[38;5;241m10000\u001B[39m):\n\u001B[1;32m      3\u001B[0m     state, reward, done, info \u001B[38;5;241m=\u001B[39m env\u001B[38;5;241m.\u001B[39mstep(\u001B[38;5;241m1\u001B[39m)\n",
      "\u001B[0;31mNameError\u001B[0m: name 'env' is not defined"
     ]
    }
   ],
   "source": [
    "state = env.reset()\n",
    "for i in range(10000):\n",
    "    state, reward, done, info = env.step(1)\n",
    "    if done:\n",
    "        break\n",
    "    env.render()\n",
    "env.close()\n",
    "# state = cv2.cvtColor(state, cv2.COLOR_BGR2GRAY)\n",
    "# state = cv2.pyrDown(state)"
   ],
   "metadata": {
    "collapsed": false
   }
  },
  {
   "cell_type": "code",
   "execution_count": 89,
   "outputs": [
    {
     "data": {
      "text/plain": "{'coins': 0,\n 'flag_get': False,\n 'life': 2,\n 'score': 0,\n 'stage': 1,\n 'status': 'small',\n 'time': 392,\n 'world': 1,\n 'x_pos': 296,\n 'x_pos_screen': 112,\n 'y_pos': 79}"
     },
     "execution_count": 89,
     "metadata": {},
     "output_type": "execute_result"
    }
   ],
   "source": [
    "info"
   ],
   "metadata": {
    "collapsed": false
   }
  },
  {
   "cell_type": "code",
   "execution_count": 90,
   "outputs": [
    {
     "data": {
      "text/plain": "(240, 256, 3)"
     },
     "execution_count": 90,
     "metadata": {},
     "output_type": "execute_result"
    }
   ],
   "source": [
    "state.shape"
   ],
   "metadata": {
    "collapsed": false
   }
  },
  {
   "cell_type": "code",
   "execution_count": 101,
   "outputs": [],
   "source": [],
   "metadata": {
    "collapsed": false
   }
  },
  {
   "cell_type": "code",
   "execution_count": 101,
   "outputs": [],
   "source": [],
   "metadata": {
    "collapsed": false
   }
  },
  {
   "cell_type": "code",
   "execution_count": 102,
   "outputs": [
    {
     "data": {
      "text/plain": "<matplotlib.image.AxesImage at 0x2905583a0>"
     },
     "execution_count": 102,
     "metadata": {},
     "output_type": "execute_result"
    },
    {
     "data": {
      "text/plain": "<Figure size 432x288 with 1 Axes>",
      "image/png": "[encoded data removed]"
     },
     "metadata": {
      "needs_background": "light"
     },
     "output_type": "display_data"
    }
   ],
   "source": [],
   "metadata": {
    "collapsed": false
   }
  },
  {
   "cell_type": "code",
   "execution_count": 92,
   "outputs": [
    {
     "data": {
      "text/plain": "<matplotlib.image.AxesImage at 0x2900d6dc0>"
     },
     "execution_count": 92,
     "metadata": {},
     "output_type": "execute_result"
    },
    {
     "data": {
      "text/plain": "<Figure size 432x288 with 1 Axes>",
      "image/png": "[encoded data removed]"
     },
     "metadata": {
      "needs_background": "light"
     },
     "output_type": "display_data"
    }
   ],
   "source": [
    "graystate = cv2.cvtColor(state, cv2.COLOR_BGR2GRAY)\n",
    "plt.imshow(graystate)"
   ],
   "metadata": {
    "collapsed": false
   }
  },
  {
   "cell_type": "code",
   "execution_count": 115,
   "outputs": [],
   "source": [],
   "metadata": {
    "collapsed": false
   }
  },
  {
   "cell_type": "code",
   "execution_count": 113,
   "outputs": [
    {
     "data": {
      "text/plain": "<matplotlib.image.AxesImage at 0x290bf9fd0>"
     },
     "execution_count": 113,
     "metadata": {},
     "output_type": "execute_result"
    },
    {
     "data": {
      "text/plain": "<Figure size 432x288 with 1 Axes>",
      "image/png": "[encoded data removed]"
     },
     "metadata": {
      "needs_background": "light"
     },
     "output_type": "display_data"
    }
   ],
   "source": [
    "_, blackImage = cv2.threshold(graystate, 90, 255, cv2.THRESH_BINARY)\n",
    "plt.imshow(blackImage[:, info['x_pos_screen']:])"
   ],
   "metadata": {
    "collapsed": false
   }
  },
  {
   "cell_type": "code",
   "execution_count": 114,
   "outputs": [
    {
     "name": "stdout",
     "output_type": "stream",
     "text": [
      "[  0   0 255   0   0   0   0   0   0   0 255   0 255 255   0   0   0   0\n",
      " 255   0   0   0   0   0   0   0 255   0 255 255   0   0   0   0 255   0\n",
      "   0   0   0   0   0   0 255   0 255 255   0   0   0   0 255   0   0   0\n",
      "   0   0   0   0 255   0 255 255   0   0   0   0 255   0   0   0   0   0\n",
      "   0   0 255   0 255 255   0   0   0   0 255   0   0   0   0   0   0   0\n",
      " 255   0 255 255   0   0   0   0 255   0   0   0   0   0   0   0 255   0\n",
      " 255 255   0   0   0   0 255   0   0   0   0   0   0   0 255   0 255 255\n",
      "   0   0   0   0 255   0   0   0   0   0   0   0 255   0 255 255   0   0\n",
      "   0   0 255   0   0   0   0   0   0   0 255   0 255 255   0   0   0   0\n",
      " 255   0   0   0   0   0   0   0 255   0 255 255   0   0   0   0 255   0\n",
      "   0   0   0   0   0   0 255   0 255 255   0   0   0   0 255   0   0   0\n",
      "   0   0   0   0 255   0 255 255   0   0   0   0 255   0   0   0   0   0\n",
      "   0   0 255   0 255 255   0   0   0   0 255   0   0   0   0   0   0   0\n",
      " 255   0 255 255   0   0   0   0 255   0   0   0   0   0   0   0 255   0\n",
      " 255 255   0   0]\n"
     ]
    }
   ],
   "source": [
    "print(blackImage[220, :])"
   ],
   "metadata": {
    "collapsed": false
   }
  },
  {
   "cell_type": "code",
   "execution_count": 93,
   "outputs": [
    {
     "data": {
      "text/plain": "(240, 256)"
     },
     "execution_count": 93,
     "metadata": {},
     "output_type": "execute_result"
    }
   ],
   "source": [
    "graystate.shape"
   ],
   "metadata": {
    "collapsed": false
   }
  },
  {
   "cell_type": "code",
   "execution_count": 94,
   "outputs": [
    {
     "name": "stdout",
     "output_type": "stream",
     "text": [
      "[  0   0   0   0   0   0   0   0   0   0   0   0   0   0   0   0   0   0\n",
      "   0   0   0   0   0   0   0   0   0   0   0   0   0   0   0   0   0   0\n",
      "   0   0   0   0   0   0   0   0   0   0   0   0   0   0   0   0   0   0\n",
      "   0   0   0   0   0   0   0   0   0   0   0   0   0   0   0   0   0   0\n",
      "   0   0   0   0   0   0   0   0   0   0  99  99  99  99  99  99  99  99\n",
      "  99  99  99  99  99  99  99  99  99  99  99  99  99  99  99  99  99  99\n",
      "  99  99  99  99  99  99   0   0   0   0 143 143 143 143 143 143 143  85\n",
      "  85 202   0 202  85  85 202   0 202  85  85  85  85   0   0   0   0   0\n",
      "   0   0   0   0   0   0   0   0   0   0   0   0   0   0   0   0   0   0\n",
      "   0   0   0   0   0   0   0   0   0   0   0   0   0   0   0   0   0   0\n",
      "   0   0   0   0   0   0   0   0   0   0   0   0   0   0   0   0   0   0\n",
      "   0   0   0   0   0   0   0   0   0   0   0   0   0   0   0   0   0   0\n",
      "   0   0   0   0   0   0   0   0   0   0   0   0   0   0   0   0   0   0\n",
      "   0   0   0   0   0   0   0   0   0   0   0   0   0   0   0   0   0   0\n",
      "   0   0   0   0]\n"
     ]
    }
   ],
   "source": [
    "print(graystate[200, :])"
   ],
   "metadata": {
    "collapsed": false
   }
  },
  {
   "cell_type": "code",
   "execution_count": 70,
   "outputs": [
    {
     "data": {
      "text/plain": "array([[  0,   0,   0, ...,   0,   0,   0],\n       [  0,   0,   0, ...,   0,   0,   0],\n       [  0,   0,   0, ...,   0,   0,   0],\n       ...,\n       [105,   0, 105, ..., 109, 105, 105],\n       [109,   0, 105, ..., 109, 109, 109],\n       [  0, 109, 105, ...,   0,   0,   0]], dtype=uint8)"
     },
     "execution_count": 70,
     "metadata": {},
     "output_type": "execute_result"
    }
   ],
   "source": [],
   "metadata": {
    "collapsed": false
   }
  },
  {
   "cell_type": "code",
   "execution_count": 32,
   "outputs": [
    {
     "data": {
      "text/plain": "numpy.int64"
     },
     "execution_count": 32,
     "metadata": {},
     "output_type": "execute_result"
    }
   ],
   "source": [
    "type(info['x_pos_screen'])"
   ],
   "metadata": {
    "collapsed": false
   }
  },
  {
   "cell_type": "code",
   "execution_count": null,
   "outputs": [],
   "source": [],
   "metadata": {
    "collapsed": false
   }
  }
 ],
 "metadata": {
  "kernelspec": {
   "display_name": "Python 3",
   "language": "python",
   "name": "python3"
  },
  "language_info": {
   "codemirror_mode": {
    "name": "ipython",
    "version": 2
   },
   "file_extension": ".py",
   "mimetype": "text/x-python",
   "name": "python",
   "nbconvert_exporter": "python",
   "pygments_lexer": "ipython2",
   "version": "2.7.6"
  }
 },
 "nbformat": 4,
 "nbformat_minor": 0
}
